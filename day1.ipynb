{
 "cells": [
  {
   "cell_type": "code",
   "execution_count": 6,
   "id": "5d2f8b69-5cec-4619-9d5f-8ebf2bbc7c84",
   "metadata": {},
   "outputs": [],
   "source": [
    "x=10"
   ]
  },
  {
   "cell_type": "code",
   "execution_count": 7,
   "id": "b9541b27-6bbc-4a5e-9932-51b9c0ddddbe",
   "metadata": {},
   "outputs": [
    {
     "data": {
      "text/plain": [
       "15"
      ]
     },
     "execution_count": 7,
     "metadata": {},
     "output_type": "execute_result"
    }
   ],
   "source": [
    "x+5"
   ]
  },
  {
   "cell_type": "code",
   "execution_count": 8,
   "id": "d06ef47c-16e4-41bb-be56-0c9def9a0dfe",
   "metadata": {},
   "outputs": [],
   "source": [
    "y=x+10"
   ]
  },
  {
   "cell_type": "code",
   "execution_count": 9,
   "id": "b5af8f3c-c96b-478a-9a56-f87994c78b83",
   "metadata": {},
   "outputs": [
    {
     "name": "stdout",
     "output_type": "stream",
     "text": [
      "20\n"
     ]
    }
   ],
   "source": [
    "print(y)"
   ]
  },
  {
   "cell_type": "code",
   "execution_count": 10,
   "id": "b7772a85-1bb6-47ae-b8b9-87e26cfed5ac",
   "metadata": {},
   "outputs": [
    {
     "name": "stdout",
     "output_type": "stream",
     "text": [
      "20.0\n"
     ]
    }
   ],
   "source": [
    "value1=1.5\n",
    "value2=45\n",
    "answer_value=value2/(value1**2)\n",
    "print(answer_value)"
   ]
  },
  {
   "cell_type": "code",
   "execution_count": 11,
   "id": "fa2f5641-b94a-47d5-ab4e-bbf0c57be960",
   "metadata": {},
   "outputs": [
    {
     "name": "stdout",
     "output_type": "stream",
     "text": [
      "['国語', '算数', '理科', '社会']\n",
      "<class 'list'>\n"
     ]
    }
   ],
   "source": [
    "subject_name =['国語','算数','理科','社会']\n",
    "print(subject_name)\n",
    "print(type(subject_name))"
   ]
  },
  {
   "cell_type": "code",
   "execution_count": 14,
   "id": "e4bd9adf-11a7-46f0-b996-45b0fdac5cb1",
   "metadata": {},
   "outputs": [
    {
     "name": "stdout",
     "output_type": "stream",
     "text": [
      "算数\n",
      "['国語', '算数']\n"
     ]
    }
   ],
   "source": [
    "print(subject_name[1])\n",
    "print(subject_name[0:2])"
   ]
  },
  {
   "cell_type": "code",
   "execution_count": 15,
   "id": "d25d0686-0a24-44a7-8f52-dd5e37d7b8bc",
   "metadata": {},
   "outputs": [
    {
     "name": "stdout",
     "output_type": "stream",
     "text": [
      "['国語', '算数', '理科', '社会', '追試']\n"
     ]
    }
   ],
   "source": [
    "subject_name.append('追試')\n",
    "print(subject_name)"
   ]
  },
  {
   "cell_type": "code",
   "execution_count": 18,
   "id": "291c2de7-0827-44f0-a520-d31b3b7915c6",
   "metadata": {},
   "outputs": [
    {
     "name": "stdout",
     "output_type": "stream",
     "text": [
      "['国語', '算数', '理科', '社会', '追試', '追加A', '追加B']\n"
     ]
    }
   ],
   "source": [
    "subject_name.extend(['追加A','追加B'])\n",
    "print(subject_name)"
   ]
  },
  {
   "cell_type": "code",
   "execution_count": 19,
   "id": "f7f47373-40e3-407d-a556-8efa7ef689bf",
   "metadata": {},
   "outputs": [],
   "source": [
    "subject_name.insert(2,'割り込み')"
   ]
  },
  {
   "cell_type": "code",
   "execution_count": 20,
   "id": "a45e86bd-f2d3-4583-90a5-07c2d20d3186",
   "metadata": {},
   "outputs": [
    {
     "name": "stdout",
     "output_type": "stream",
     "text": [
      "['国語', '算数', '割り込み', '理科', '社会', '追試', '追加A', '追加B']\n"
     ]
    }
   ],
   "source": [
    "print(subject_name)"
   ]
  },
  {
   "cell_type": "code",
   "execution_count": 21,
   "id": "13fc9028-a32c-494f-97c7-0bae24e5c229",
   "metadata": {},
   "outputs": [
    {
     "name": "stdout",
     "output_type": "stream",
     "text": [
      "['国語', '算数', '理科', '社会', '追試', '追加A', '追加B']\n"
     ]
    }
   ],
   "source": [
    "subject_name.remove('割り込み')\n",
    "print(subject_name)"
   ]
  },
  {
   "cell_type": "code",
   "execution_count": 22,
   "id": "8a34afc6-f99a-4481-8717-12307e7efee4",
   "metadata": {},
   "outputs": [
    {
     "name": "stdout",
     "output_type": "stream",
     "text": [
      "['Japanese', '算数', '理科', '社会', '追試', '追加A', '追加B']\n"
     ]
    }
   ],
   "source": [
    "subject_name[0]='Japanese'\n",
    "print(subject_name)"
   ]
  },
  {
   "cell_type": "code",
   "execution_count": 23,
   "id": "c0c15b92-dd33-4cea-aa38-8f89dfa9c322",
   "metadata": {},
   "outputs": [
    {
     "name": "stdout",
     "output_type": "stream",
     "text": [
      "{'国語': 70, '数学': 80, '理科': 100}\n"
     ]
    }
   ],
   "source": [
    "subject_dic ={'国語':70, '数学':80, '理科':100}\n",
    "print(subject_dic)"
   ]
  },
  {
   "cell_type": "code",
   "execution_count": 24,
   "id": "67ab80c6-2564-497a-b8ba-6744efb41660",
   "metadata": {},
   "outputs": [
    {
     "name": "stdout",
     "output_type": "stream",
     "text": [
      "{'国語': 70, '数学': 80, '理科': 100, '英語': 90}\n"
     ]
    }
   ],
   "source": [
    "subject_dic['英語']=90\n",
    "print(subject_dic)"
   ]
  },
  {
   "cell_type": "code",
   "execution_count": 25,
   "id": "ec743919-42b0-45f7-ba2e-911f49a88a9e",
   "metadata": {},
   "outputs": [
    {
     "name": "stdout",
     "output_type": "stream",
     "text": [
      "{'国語': 70, '理科': 100, '英語': 90}\n"
     ]
    }
   ],
   "source": [
    "subject_dic.pop('数学')\n",
    "print(subject_dic)"
   ]
  },
  {
   "cell_type": "code",
   "execution_count": 26,
   "id": "2aa0c423-8f76-4b44-b48b-4a234d3336b7",
   "metadata": {},
   "outputs": [
    {
     "name": "stdout",
     "output_type": "stream",
     "text": [
      "(10, 20, 'hello')\n",
      "10\n"
     ]
    }
   ],
   "source": [
    "sample_tuple=(10,20,'hello')\n",
    "print(sample_tuple)\n",
    "print(sample_tuple[0])"
   ]
  },
  {
   "cell_type": "code",
   "execution_count": 27,
   "id": "7d165b7a-0c0c-4c37-aab4-721aa925d0f4",
   "metadata": {},
   "outputs": [
    {
     "name": "stdout",
     "output_type": "stream",
     "text": [
      "20.0\n"
     ]
    }
   ],
   "source": [
    "sato_dic={'height':1.5,'weight':45}\n",
    "BMI = sato_dic['weight']/(sato_dic['height']**2)\n",
    "print(BMI)"
   ]
  },
  {
   "cell_type": "code",
   "execution_count": 29,
   "id": "f2a36d7c-f547-4f6c-a117-01c7333ceee1",
   "metadata": {},
   "outputs": [
    {
     "name": "stdout",
     "output_type": "stream",
     "text": [
      "1024\n",
      "1024\n"
     ]
    }
   ],
   "source": [
    "print(2**10)\n",
    "int =2\n",
    "ans =1\n",
    "for i in[1,2,3,4,5,6,7,8,9,10]:\n",
    "    ans = ans*2\n",
    "print(ans)"
   ]
  },
  {
   "cell_type": "code",
   "execution_count": 32,
   "id": "2fc02f05-433e-4cab-bc0b-f2b91d0319f5",
   "metadata": {},
   "outputs": [
    {
     "name": "stdout",
     "output_type": "stream",
     "text": [
      "1024\n"
     ]
    }
   ],
   "source": [
    "ans=1\n",
    "count=1\n",
    "while count <=10:\n",
    "    ans=ans*2\n",
    "    count +=1\n",
    "print(ans)    "
   ]
  },
  {
   "cell_type": "code",
   "execution_count": 1,
   "id": "fb493370-2545-4be5-93d7-4c577f5d8a9e",
   "metadata": {},
   "outputs": [],
   "source": [
    "def calc_hypotenuse(x, y):\n",
    "    ans = (x**2 + y**2)**(1/2)\n",
    "    return ans"
   ]
  },
  {
   "cell_type": "code",
   "execution_count": 2,
   "id": "e683ad33-e183-48dc-8295-044d79b4e26b",
   "metadata": {},
   "outputs": [
    {
     "name": "stdout",
     "output_type": "stream",
     "text": [
      "3.605551275463989\n",
      "6.4031242374328485\n",
      "9.219544457292887\n"
     ]
    }
   ],
   "source": [
    "a=calc_hypotenuse(2, 3)\n",
    "b=calc_hypotenuse(4, 5)\n",
    "c=calc_hypotenuse(6, 7)\n",
    "print(a)\n",
    "print(b)\n",
    "print(c)"
   ]
  },
  {
   "cell_type": "code",
   "execution_count": 3,
   "id": "819ef1da-63ce-4b24-8fc3-c1e85e4a788f",
   "metadata": {},
   "outputs": [
    {
     "name": "stdout",
     "output_type": "stream",
     "text": [
      "関数が呼ばれました\n"
     ]
    }
   ],
   "source": [
    "def print_func():\n",
    "    print('関数が呼ばれました')\n",
    "print_func()"
   ]
  },
  {
   "cell_type": "code",
   "execution_count": 12,
   "id": "040d3909-7aff-4b0e-9217-7beb042603c3",
   "metadata": {},
   "outputs": [],
   "source": [
    "def calc_bmi(heigth, weight):\n",
    "    bmi=weight / (heigth**2)\n",
    "    return bmi"
   ]
  },
  {
   "cell_type": "code",
   "execution_count": 11,
   "id": "2c806592-ed62-48f9-8ee1-3e1af8c7a532",
   "metadata": {},
   "outputs": [],
   "source": [
    "def judge_bmi(heigth, weight):\n",
    "    bmi=calc_bmi(heigth, weight)\n",
    "    if bmi<18:\n",
    "        print('痩せ気味')\n",
    "    elif bmi >=25:\n",
    "        print('太り気味')\n",
    "    else:\n",
    "        print('普通')"
   ]
  },
  {
   "cell_type": "code",
   "execution_count": 14,
   "id": "f4c752a3-2db9-4be4-8d99-ce565104ef6f",
   "metadata": {},
   "outputs": [
    {
     "name": "stdout",
     "output_type": "stream",
     "text": [
      "普通\n"
     ]
    }
   ],
   "source": [
    "tanaka={'heigth':2, 'weight':80}\n",
    "judge_bmi(tanaka['heigth'],tanaka['weight'])"
   ]
  },
  {
   "cell_type": "code",
   "execution_count": 15,
   "id": "5e4a0cef-4024-427a-a6a5-7823d703895d",
   "metadata": {},
   "outputs": [
    {
     "name": "stdout",
     "output_type": "stream",
     "text": [
      "斜辺の長さは13.00\n"
     ]
    }
   ],
   "source": [
    "ans=calc_hypotenuse(5,12)\n",
    "print('斜辺の長さは{:.2f}'.format(ans))"
   ]
  },
  {
   "cell_type": "code",
   "execution_count": 16,
   "id": "142b0488-310a-47ad-a3d7-b11ae4f327f5",
   "metadata": {},
   "outputs": [
    {
     "name": "stdout",
     "output_type": "stream",
     "text": [
      "斜辺の長さは13.00\n"
     ]
    }
   ],
   "source": [
    "print(f'斜辺の長さは{ans:.2f}')"
   ]
  },
  {
   "cell_type": "code",
   "execution_count": 18,
   "id": "3ed23f59-3bc0-427b-aa50-165466be7ea9",
   "metadata": {},
   "outputs": [
    {
     "name": "stdout",
     "output_type": "stream",
     "text": [
      "私の名前はTaroです。年齢は20歳です。\n",
      "私の名前はTaroです。年齢は20歳です。\n"
     ]
    }
   ],
   "source": [
    "name='Taro'\n",
    "age=20\n",
    "print('私の名前は{}です。年齢は{:d}歳です。'.format(name,age))\n",
    "print(f'私の名前は{name}です。年齢は{age:d}歳です。')"
   ]
  },
  {
   "cell_type": "code",
   "execution_count": 22,
   "id": "9aa88f46-6f83-4662-a049-c7ba0ae6f42d",
   "metadata": {},
   "outputs": [
    {
     "name": "stdout",
     "output_type": "stream",
     "text": [
      "2x1=2\n",
      "2x2=4\n",
      "2x3=6\n",
      "2x4=8\n",
      "2x5=10\n",
      "2x6=12\n",
      "2x7=14\n",
      "2x8=16\n",
      "2x9=18\n"
     ]
    }
   ],
   "source": [
    "a=2\n",
    "for i in range(1,10):\n",
    "    print(f'{a:d}x{i:d}={a*i:d}')"
   ]
  },
  {
   "cell_type": "code",
   "execution_count": 28,
   "id": "f76fad9c-00b3-4ce8-9d56-e8d96f2d8a21",
   "metadata": {},
   "outputs": [],
   "source": [
    "class Human:\n",
    "    def __init__(self):\n",
    "        print('set_date')\n",
    "        self.health=100\n",
    "        self.time=10\n",
    "        self.achieve=0\n",
    "    \n",
    "    def work(self):\n",
    "        print('work')\n",
    "        self.achieve += 1\n",
    "        self.time -= 1\n",
    "        self.health -= 50\n",
    "\n",
    "    def rest(self):\n",
    "        print('rest')\n",
    "        self.time -= 3\n",
    "        self.health += 50\n",
    "\n",
    "    def print_state(self):\n",
    "        print(f'health:{self.health}')\n",
    "        print(f'time:{self.time}')\n",
    "        print(f'achieve:{self.achieve}')"
   ]
  },
  {
   "cell_type": "code",
   "execution_count": 31,
   "id": "af6aa177-ecbc-41f1-b27e-ef3bc1afbffc",
   "metadata": {},
   "outputs": [
    {
     "name": "stdout",
     "output_type": "stream",
     "text": [
      "set_date\n"
     ]
    }
   ],
   "source": [
    "human=Human()"
   ]
  },
  {
   "cell_type": "code",
   "execution_count": 32,
   "id": "ca883ba1-d30a-4b79-b199-c0bf03051cce",
   "metadata": {},
   "outputs": [
    {
     "name": "stdout",
     "output_type": "stream",
     "text": [
      "health:100\n",
      "time:10\n",
      "achieve:0\n"
     ]
    }
   ],
   "source": [
    "print(f'health:{human.health}')\n",
    "print(f'time:{human.time}')\n",
    "print(f'achieve:{human.achieve}')"
   ]
  },
  {
   "cell_type": "code",
   "execution_count": 33,
   "id": "00cfa554-8396-45a7-b8d3-fd7388d29042",
   "metadata": {},
   "outputs": [
    {
     "name": "stdout",
     "output_type": "stream",
     "text": [
      "work\n",
      "health:50\n",
      "time:9\n",
      "achieve:1\n"
     ]
    }
   ],
   "source": [
    "human.work()\n",
    "human.print_state()"
   ]
  },
  {
   "cell_type": "code",
   "execution_count": 34,
   "id": "38d335d9-9d50-45af-8741-2b9938dc05de",
   "metadata": {},
   "outputs": [
    {
     "name": "stdout",
     "output_type": "stream",
     "text": [
      "rest\n",
      "health:100\n",
      "time:6\n",
      "achieve:1\n"
     ]
    }
   ],
   "source": [
    "human.rest()\n",
    "human.print_state()"
   ]
  },
  {
   "cell_type": "code",
   "execution_count": null,
   "id": "b515074d-fafc-4a97-86a7-6cfabc497e01",
   "metadata": {},
   "outputs": [],
   "source": []
  }
 ],
 "metadata": {
  "kernelspec": {
   "display_name": "Python 3 (ipykernel)",
   "language": "python",
   "name": "python3"
  },
  "language_info": {
   "codemirror_mode": {
    "name": "ipython",
    "version": 3
   },
   "file_extension": ".py",
   "mimetype": "text/x-python",
   "name": "python",
   "nbconvert_exporter": "python",
   "pygments_lexer": "ipython3",
   "version": "3.12.4"
  }
 },
 "nbformat": 4,
 "nbformat_minor": 5
}

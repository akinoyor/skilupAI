{
 "cells": [
  {
   "cell_type": "code",
   "execution_count": 6,
   "id": "5d2f8b69-5cec-4619-9d5f-8ebf2bbc7c84",
   "metadata": {},
   "outputs": [],
   "source": [
    "x=10"
   ]
  },
  {
   "cell_type": "code",
   "execution_count": 7,
   "id": "b9541b27-6bbc-4a5e-9932-51b9c0ddddbe",
   "metadata": {},
   "outputs": [
    {
     "data": {
      "text/plain": [
       "15"
      ]
     },
     "execution_count": 7,
     "metadata": {},
     "output_type": "execute_result"
    }
   ],
   "source": [
    "x+5"
   ]
  },
  {
   "cell_type": "code",
   "execution_count": 8,
   "id": "d06ef47c-16e4-41bb-be56-0c9def9a0dfe",
   "metadata": {},
   "outputs": [],
   "source": [
    "y=x+10"
   ]
  },
  {
   "cell_type": "code",
   "execution_count": 9,
   "id": "b5af8f3c-c96b-478a-9a56-f87994c78b83",
   "metadata": {},
   "outputs": [
    {
     "name": "stdout",
     "output_type": "stream",
     "text": [
      "20\n"
     ]
    }
   ],
   "source": [
    "print(y)"
   ]
  },
  {
   "cell_type": "code",
   "execution_count": 10,
   "id": "b7772a85-1bb6-47ae-b8b9-87e26cfed5ac",
   "metadata": {},
   "outputs": [
    {
     "name": "stdout",
     "output_type": "stream",
     "text": [
      "20.0\n"
     ]
    }
   ],
   "source": [
    "value1=1.5\n",
    "value2=45\n",
    "answer_value=value2/(value1**2)\n",
    "print(answer_value)"
   ]
  },
  {
   "cell_type": "code",
   "execution_count": 11,
   "id": "fa2f5641-b94a-47d5-ab4e-bbf0c57be960",
   "metadata": {},
   "outputs": [
    {
     "name": "stdout",
     "output_type": "stream",
     "text": [
      "['国語', '算数', '理科', '社会']\n",
      "<class 'list'>\n"
     ]
    }
   ],
   "source": [
    "subject_name =['国語','算数','理科','社会']\n",
    "print(subject_name)\n",
    "print(type(subject_name))"
   ]
  },
  {
   "cell_type": "code",
   "execution_count": 14,
   "id": "e4bd9adf-11a7-46f0-b996-45b0fdac5cb1",
   "metadata": {},
   "outputs": [
    {
     "name": "stdout",
     "output_type": "stream",
     "text": [
      "算数\n",
      "['国語', '算数']\n"
     ]
    }
   ],
   "source": [
    "print(subject_name[1])\n",
    "print(subject_name[0:2])"
   ]
  },
  {
   "cell_type": "code",
   "execution_count": 15,
   "id": "d25d0686-0a24-44a7-8f52-dd5e37d7b8bc",
   "metadata": {},
   "outputs": [
    {
     "name": "stdout",
     "output_type": "stream",
     "text": [
      "['国語', '算数', '理科', '社会', '追試']\n"
     ]
    }
   ],
   "source": [
    "subject_name.append('追試')\n",
    "print(subject_name)"
   ]
  },
  {
   "cell_type": "code",
   "execution_count": 18,
   "id": "291c2de7-0827-44f0-a520-d31b3b7915c6",
   "metadata": {},
   "outputs": [
    {
     "name": "stdout",
     "output_type": "stream",
     "text": [
      "['国語', '算数', '理科', '社会', '追試', '追加A', '追加B']\n"
     ]
    }
   ],
   "source": [
    "subject_name.extend(['追加A','追加B'])\n",
    "print(subject_name)"
   ]
  },
  {
   "cell_type": "code",
   "execution_count": 19,
   "id": "f7f47373-40e3-407d-a556-8efa7ef689bf",
   "metadata": {},
   "outputs": [],
   "source": [
    "subject_name.insert(2,'割り込み')"
   ]
  },
  {
   "cell_type": "code",
   "execution_count": 20,
   "id": "a45e86bd-f2d3-4583-90a5-07c2d20d3186",
   "metadata": {},
   "outputs": [
    {
     "name": "stdout",
     "output_type": "stream",
     "text": [
      "['国語', '算数', '割り込み', '理科', '社会', '追試', '追加A', '追加B']\n"
     ]
    }
   ],
   "source": [
    "print(subject_name)"
   ]
  },
  {
   "cell_type": "code",
   "execution_count": 21,
   "id": "13fc9028-a32c-494f-97c7-0bae24e5c229",
   "metadata": {},
   "outputs": [
    {
     "name": "stdout",
     "output_type": "stream",
     "text": [
      "['国語', '算数', '理科', '社会', '追試', '追加A', '追加B']\n"
     ]
    }
   ],
   "source": [
    "subject_name.remove('割り込み')\n",
    "print(subject_name)"
   ]
  },
  {
   "cell_type": "code",
   "execution_count": 22,
   "id": "8a34afc6-f99a-4481-8717-12307e7efee4",
   "metadata": {},
   "outputs": [
    {
     "name": "stdout",
     "output_type": "stream",
     "text": [
      "['Japanese', '算数', '理科', '社会', '追試', '追加A', '追加B']\n"
     ]
    }
   ],
   "source": [
    "subject_name[0]='Japanese'\n",
    "print(subject_name)"
   ]
  },
  {
   "cell_type": "code",
   "execution_count": 23,
   "id": "c0c15b92-dd33-4cea-aa38-8f89dfa9c322",
   "metadata": {},
   "outputs": [
    {
     "name": "stdout",
     "output_type": "stream",
     "text": [
      "{'国語': 70, '数学': 80, '理科': 100}\n"
     ]
    }
   ],
   "source": [
    "subject_dic ={'国語':70, '数学':80, '理科':100}\n",
    "print(subject_dic)"
   ]
  },
  {
   "cell_type": "code",
   "execution_count": 24,
   "id": "67ab80c6-2564-497a-b8ba-6744efb41660",
   "metadata": {},
   "outputs": [
    {
     "name": "stdout",
     "output_type": "stream",
     "text": [
      "{'国語': 70, '数学': 80, '理科': 100, '英語': 90}\n"
     ]
    }
   ],
   "source": [
    "subject_dic['英語']=90\n",
    "print(subject_dic)"
   ]
  },
  {
   "cell_type": "code",
   "execution_count": 25,
   "id": "ec743919-42b0-45f7-ba2e-911f49a88a9e",
   "metadata": {},
   "outputs": [
    {
     "name": "stdout",
     "output_type": "stream",
     "text": [
      "{'国語': 70, '理科': 100, '英語': 90}\n"
     ]
    }
   ],
   "source": [
    "subject_dic.pop('数学')\n",
    "print(subject_dic)"
   ]
  },
  {
   "cell_type": "code",
   "execution_count": 26,
   "id": "2aa0c423-8f76-4b44-b48b-4a234d3336b7",
   "metadata": {},
   "outputs": [
    {
     "name": "stdout",
     "output_type": "stream",
     "text": [
      "(10, 20, 'hello')\n",
      "10\n"
     ]
    }
   ],
   "source": [
    "sample_tuple=(10,20,'hello')\n",
    "print(sample_tuple)\n",
    "print(sample_tuple[0])"
   ]
  },
  {
   "cell_type": "code",
   "execution_count": 27,
   "id": "7d165b7a-0c0c-4c37-aab4-721aa925d0f4",
   "metadata": {},
   "outputs": [
    {
     "name": "stdout",
     "output_type": "stream",
     "text": [
      "20.0\n"
     ]
    }
   ],
   "source": [
    "sato_dic={'height':1.5,'weight':45}\n",
    "BMI = sato_dic['weight']/(sato_dic['height']**2)\n",
    "print(BMI)"
   ]
  },
  {
   "cell_type": "code",
   "execution_count": 29,
   "id": "f2a36d7c-f547-4f6c-a117-01c7333ceee1",
   "metadata": {},
   "outputs": [
    {
     "name": "stdout",
     "output_type": "stream",
     "text": [
      "1024\n",
      "1024\n"
     ]
    }
   ],
   "source": [
    "print(2**10)\n",
    "int =2\n",
    "ans =1\n",
    "for i in[1,2,3,4,5,6,7,8,9,10]:\n",
    "    ans = ans*2\n",
    "print(ans)"
   ]
  },
  {
   "cell_type": "code",
   "execution_count": 32,
   "id": "2fc02f05-433e-4cab-bc0b-f2b91d0319f5",
   "metadata": {},
   "outputs": [
    {
     "name": "stdout",
     "output_type": "stream",
     "text": [
      "1024\n"
     ]
    }
   ],
   "source": [
    "ans=1\n",
    "count=1\n",
    "while count <=10:\n",
    "    ans=ans*2\n",
    "    count +=1\n",
    "print(ans)    "
   ]
  },
  {
   "cell_type": "code",
   "execution_count": null,
   "id": "fb493370-2545-4be5-93d7-4c577f5d8a9e",
   "metadata": {},
   "outputs": [],
   "source": []
  }
 ],
 "metadata": {
  "kernelspec": {
   "display_name": "Python 3 (ipykernel)",
   "language": "python",
   "name": "python3"
  },
  "language_info": {
   "codemirror_mode": {
    "name": "ipython",
    "version": 3
   },
   "file_extension": ".py",
   "mimetype": "text/x-python",
   "name": "python",
   "nbconvert_exporter": "python",
   "pygments_lexer": "ipython3",
   "version": "3.12.4"
  }
 },
 "nbformat": 4,
 "nbformat_minor": 5
}
